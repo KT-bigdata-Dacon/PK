{
 "cells": [
  {
   "cell_type": "code",
   "execution_count": 1,
   "metadata": {},
   "outputs": [],
   "source": [
    "import pandas as pd\n",
    "import matplotlib.pyplot as plt\n",
    "import seaborn as sns\n",
    "from tqdm import tqdm\n",
    "import warnings\n",
    "import os\n",
    "warnings.filterwarnings(\"ignore\")"
   ]
  },
  {
   "cell_type": "code",
   "execution_count": 2,
   "metadata": {},
   "outputs": [],
   "source": [
    "def get_font_family():\n",
    "    \"\"\"\n",
    "    시스템 환경에 따른 기본 폰트명을 반환하는 함수\n",
    "    \"\"\"\n",
    "    import platform\n",
    "    system_name = platform.system()\n",
    "    # colab 사용자는 system_name이 'Linux'로 확인\n",
    "\n",
    "    if system_name == \"Darwin\" :\n",
    "        font_family = \"AppleGothic\"\n",
    "    elif system_name == \"Windows\":\n",
    "        font_family = \"Malgun Gothic\"\n",
    "    else:\n",
    "        # Linux\n",
    "        # colab에서는 runtime을 <꼭> 재시작 해야함.\n",
    "        # 런타임을 재시작 하지 않고 폰트 설치를 하면 기본 설정 폰트가 로드되어 한글이 깨짐.\n",
    "        !apt-get update -qq\n",
    "        !apt-get install fonts-nanum -qq  > /dev/null\n",
    "\n",
    "        import matplotlib.font_manager as fm\n",
    "\n",
    "        fontpath = '/usr/share/fonts/truetype/nanum/NanumBarunGothic.ttf'\n",
    "        font = fm.FontProperties(fname=fontpath, size=9)\n",
    "        fm._rebuild()\n",
    "        font_family = \"NanumBarunGothic\"\n",
    "    return font_family\n",
    "\n",
    "# 시각화를 위한 폰트설정\n",
    "# 위에서 만든 함수를 통해 시스템 폰트를 불러와서 font_family 라는 변수에 할당.\n",
    "a = get_font_family()\n",
    "# 폰트설정\n",
    "import matplotlib.pyplot as plt \n",
    "plt.rc(\"font\", family = a)\n",
    "# 마이너스폰트 설정\n",
    "plt.rc(\"axes\", unicode_minus=False)"
   ]
  },
  {
   "cell_type": "code",
   "execution_count": 3,
   "metadata": {},
   "outputs": [
    {
     "data": {
      "text/plain": [
       "['covid_19_dataset', 'KT_빅데이터플랫폼_데이터셋', '거리데이터.csv', '외부데이터', '위치데이터.csv']"
      ]
     },
     "execution_count": 3,
     "metadata": {},
     "output_type": "execute_result"
    }
   ],
   "source": [
    "os.listdir(\"./data\")"
   ]
  },
  {
   "cell_type": "code",
   "execution_count": 4,
   "metadata": {},
   "outputs": [
    {
     "data": {
      "text/plain": [
       "['dlvr_call.csv',\n",
       " 'popl.csv',\n",
       " 'StartupOrClosing_Region_ver2.csv',\n",
       " 'StartupOrClosing_Shop_ver2.csv',\n",
       " '전체 데이터 설명.hwp']"
      ]
     },
     "execution_count": 4,
     "metadata": {},
     "output_type": "execute_result"
    }
   ],
   "source": [
    "os.listdir(\"./data/KT_빅데이터플랫폼_데이터셋\")"
   ]
  },
  {
   "cell_type": "code",
   "execution_count": 5,
   "metadata": {},
   "outputs": [],
   "source": [
    "df = pd.read_csv(\"./data/KT_빅데이터플랫폼_데이터셋/dlvr_call.csv\")\n",
    "df = df.rename(columns={'SN' : '순번',\n",
    "'PROCESS_DT' : '처리일시',\n",
    "'DLVR_REQUST_ENTRPS_ID' : '배달요청업체ID',\n",
    "'DLVR_REQUST_STTUS_VALUE' : '배달요청상태값',\n",
    "'DLVR_RCEPT_ENTRPS_ID' : '배달접수업체ID',\n",
    "'DLVR_STORE_ID' : '배달상점ID',\n",
    "'DLVR_STORE_INDUTY_NM' : '배달상점 업종명',\n",
    "'DLVR_STORE_LEGALDONG_CODE' : '배달상점법정동코드',\n",
    "'DLVR_STORE_BRTC_NM' : '배달상점광역시도명',\n",
    "'DLVR_STORE_SIGNGU_NM' : '배달상점시군구명',\n",
    "'DLVR_STORE_LEGALDONG_NM' : '배달상점법정동명',\n",
    "'DLVR_STORE_LI_NM' : '배달상점리명',\n",
    "'DLVR_STORE_ADSTRD_CODE' : '배달상점행정동코드',\n",
    "'DLVR_STORE_RDNMADR_CODE' : '배달상점도로명주소 코드',\n",
    "'DLVR_DSTN_LEGALDONG_CODE' : '배달목적지법정동코드',\n",
    "'DLVR_DSTN_BRTC_NM' : '배달목적지광역시도명',\n",
    "'DLVR_DSTN_SIGNGU_NM' : '배달목적지시군구명',\n",
    "'DLVR_DSTN_LEGALDONG_NM' : '배달목적지법정동명',\n",
    "'DLVR_DSTN_LI_NM' : '배달목적지 리명',\n",
    "'DLVR_DSTN_ADSTRD_CODE' : '배달목적지행정동코드',\n",
    "'DLVR_DSTN_RDNMADR_CODE' : '배달목적지도로명주소 코드',\n",
    "'DLVR_MAN_ID' : '배달자ID',\n",
    "'DLVR_AMOUNT' : '배달금액',\n",
    "'CALL_RLAY_FEE_AMOUNT' : '호출중계수수료금액',\n",
    "'GOODS_AMOUNT' : '상품금액',\n",
    "'SETLE_KND_VALUE' : '결제종류값',\n",
    "'SETLE_CARD_NM' : '결제카드명',\n",
    "'DLVR_RCEPT_TIME' : '배달접수시간',\n",
    "'DLVR_CARALC_TIME' : '배달배차시간',\n",
    "'DLVR_RECPT_TIME' : '배달수령시간',\n",
    "'DLVR_COMPT_TIME' : '배달완료시간',\n",
    "'DLVR_CANCL_TIME' : '배달취소시간'})"
   ]
  },
  {
   "cell_type": "code",
   "execution_count": 6,
   "metadata": {},
   "outputs": [],
   "source": [
    "# 필요없는 데이터컬럼 제거\n",
    "df.drop(['배달요청상태값','배달상점법정동코드',\n",
    "         '배달상점법정동명','배달상점리명','배달상점행정동코드','배달상점도로명주소 코드','결제종류값',\n",
    "         '배달목적지법정동코드','배달목적지광역시도명','배달목적지시군구명','배달목적지법정동명',\n",
    "         '배달목적지 리명','배달목적지행정동코드','배달목적지도로명주소 코드'], axis=1, inplace=True)"
   ]
  },
  {
   "cell_type": "code",
   "execution_count": 7,
   "metadata": {},
   "outputs": [
    {
     "data": {
      "text/html": [
       "<div>\n",
       "<style scoped>\n",
       "    .dataframe tbody tr th:only-of-type {\n",
       "        vertical-align: middle;\n",
       "    }\n",
       "\n",
       "    .dataframe tbody tr th {\n",
       "        vertical-align: top;\n",
       "    }\n",
       "\n",
       "    .dataframe thead th {\n",
       "        text-align: right;\n",
       "    }\n",
       "</style>\n",
       "<table border=\"1\" class=\"dataframe\">\n",
       "  <thead>\n",
       "    <tr style=\"text-align: right;\">\n",
       "      <th></th>\n",
       "      <th>순번</th>\n",
       "      <th>처리일시</th>\n",
       "      <th>배달요청업체ID</th>\n",
       "      <th>배달접수업체ID</th>\n",
       "      <th>배달상점ID</th>\n",
       "      <th>배달상점 업종명</th>\n",
       "      <th>배달상점광역시도명</th>\n",
       "      <th>배달상점시군구명</th>\n",
       "      <th>배달자ID</th>\n",
       "      <th>배달금액</th>\n",
       "      <th>호출중계수수료금액</th>\n",
       "      <th>상품금액</th>\n",
       "      <th>결제카드명</th>\n",
       "      <th>배달접수시간</th>\n",
       "      <th>배달배차시간</th>\n",
       "      <th>배달수령시간</th>\n",
       "      <th>배달완료시간</th>\n",
       "      <th>배달취소시간</th>\n",
       "    </tr>\n",
       "  </thead>\n",
       "  <tbody>\n",
       "    <tr>\n",
       "      <th>0</th>\n",
       "      <td>3486929</td>\n",
       "      <td>2019-12-01</td>\n",
       "      <td>C000101</td>\n",
       "      <td>C000101</td>\n",
       "      <td>S0021950</td>\n",
       "      <td>족발/보쌈</td>\n",
       "      <td>서울특별시</td>\n",
       "      <td>영등포구</td>\n",
       "      <td>D0006140</td>\n",
       "      <td>3300</td>\n",
       "      <td>200</td>\n",
       "      <td>18000</td>\n",
       "      <td>승인:KB국민카드</td>\n",
       "      <td>2019-12-01 20:47:52</td>\n",
       "      <td>2019-12-01 20:48:11</td>\n",
       "      <td>2019-12-01 20:55:33</td>\n",
       "      <td>2019-12-01 21:00:15</td>\n",
       "      <td>\\N</td>\n",
       "    </tr>\n",
       "    <tr>\n",
       "      <th>1</th>\n",
       "      <td>3486930</td>\n",
       "      <td>2019-12-01</td>\n",
       "      <td>C000099</td>\n",
       "      <td>C000099</td>\n",
       "      <td>S0039210</td>\n",
       "      <td>치킨</td>\n",
       "      <td>경기도</td>\n",
       "      <td>고양시 일산동구</td>\n",
       "      <td>D0005898</td>\n",
       "      <td>2900</td>\n",
       "      <td>0</td>\n",
       "      <td>21900</td>\n",
       "      <td>승인:현대카드사</td>\n",
       "      <td>2019-12-01 21:58:07</td>\n",
       "      <td>2019-12-01 22:01:06</td>\n",
       "      <td>2019-12-01 22:20:53</td>\n",
       "      <td>2019-12-01 22:26:01</td>\n",
       "      <td>\\N</td>\n",
       "    </tr>\n",
       "    <tr>\n",
       "      <th>2</th>\n",
       "      <td>3486932</td>\n",
       "      <td>2019-12-01</td>\n",
       "      <td>C000029</td>\n",
       "      <td>C000043</td>\n",
       "      <td>S0036135</td>\n",
       "      <td>치킨</td>\n",
       "      <td>경기도</td>\n",
       "      <td>의정부시</td>\n",
       "      <td>D0000864</td>\n",
       "      <td>3500</td>\n",
       "      <td>200</td>\n",
       "      <td>19500</td>\n",
       "      <td>NaN</td>\n",
       "      <td>2019-12-01 22:20:31</td>\n",
       "      <td>2019-12-01 22:37:45</td>\n",
       "      <td>2019-12-01 22:58:27</td>\n",
       "      <td>2019-12-01 22:58:32</td>\n",
       "      <td>\\N</td>\n",
       "    </tr>\n",
       "    <tr>\n",
       "      <th>3</th>\n",
       "      <td>3486933</td>\n",
       "      <td>2019-12-01</td>\n",
       "      <td>C000105</td>\n",
       "      <td>C000105</td>\n",
       "      <td>S0039956</td>\n",
       "      <td>돈까스/일식</td>\n",
       "      <td>경기도</td>\n",
       "      <td>고양시 일산동구</td>\n",
       "      <td>D0001526</td>\n",
       "      <td>3500</td>\n",
       "      <td>0</td>\n",
       "      <td>18000</td>\n",
       "      <td>NaN</td>\n",
       "      <td>2019-12-01 21:40:39</td>\n",
       "      <td>2019-12-01 21:48:41</td>\n",
       "      <td>2019-12-01 22:06:35</td>\n",
       "      <td>2019-12-01 22:17:57</td>\n",
       "      <td>\\N</td>\n",
       "    </tr>\n",
       "    <tr>\n",
       "      <th>4</th>\n",
       "      <td>3486934</td>\n",
       "      <td>2019-12-01</td>\n",
       "      <td>C000028</td>\n",
       "      <td>C000043</td>\n",
       "      <td>S0003074</td>\n",
       "      <td>치킨</td>\n",
       "      <td>경기도</td>\n",
       "      <td>의정부시</td>\n",
       "      <td>D0000986</td>\n",
       "      <td>3500</td>\n",
       "      <td>200</td>\n",
       "      <td>18000</td>\n",
       "      <td>NaN</td>\n",
       "      <td>2019-12-01 19:44:37</td>\n",
       "      <td>2019-12-01 19:48:07</td>\n",
       "      <td>2019-12-01 19:54:30</td>\n",
       "      <td>2019-12-01 20:00:22</td>\n",
       "      <td>\\N</td>\n",
       "    </tr>\n",
       "  </tbody>\n",
       "</table>\n",
       "</div>"
      ],
      "text/plain": [
       "        순번        처리일시 배달요청업체ID 배달접수업체ID    배달상점ID 배달상점 업종명 배달상점광역시도명  \\\n",
       "0  3486929  2019-12-01  C000101  C000101  S0021950    족발/보쌈     서울특별시   \n",
       "1  3486930  2019-12-01  C000099  C000099  S0039210       치킨       경기도   \n",
       "2  3486932  2019-12-01  C000029  C000043  S0036135       치킨       경기도   \n",
       "3  3486933  2019-12-01  C000105  C000105  S0039956   돈까스/일식       경기도   \n",
       "4  3486934  2019-12-01  C000028  C000043  S0003074       치킨       경기도   \n",
       "\n",
       "   배달상점시군구명     배달자ID  배달금액  호출중계수수료금액   상품금액      결제카드명               배달접수시간  \\\n",
       "0      영등포구  D0006140  3300        200  18000  승인:KB국민카드  2019-12-01 20:47:52   \n",
       "1  고양시 일산동구  D0005898  2900          0  21900   승인:현대카드사  2019-12-01 21:58:07   \n",
       "2      의정부시  D0000864  3500        200  19500        NaN  2019-12-01 22:20:31   \n",
       "3  고양시 일산동구  D0001526  3500          0  18000        NaN  2019-12-01 21:40:39   \n",
       "4      의정부시  D0000986  3500        200  18000        NaN  2019-12-01 19:44:37   \n",
       "\n",
       "                배달배차시간               배달수령시간               배달완료시간 배달취소시간  \n",
       "0  2019-12-01 20:48:11  2019-12-01 20:55:33  2019-12-01 21:00:15     \\N  \n",
       "1  2019-12-01 22:01:06  2019-12-01 22:20:53  2019-12-01 22:26:01     \\N  \n",
       "2  2019-12-01 22:37:45  2019-12-01 22:58:27  2019-12-01 22:58:32     \\N  \n",
       "3  2019-12-01 21:48:41  2019-12-01 22:06:35  2019-12-01 22:17:57     \\N  \n",
       "4  2019-12-01 19:48:07  2019-12-01 19:54:30  2019-12-01 20:00:22     \\N  "
      ]
     },
     "metadata": {},
     "output_type": "display_data"
    }
   ],
   "source": [
    "display(df.head())"
   ]
  },
  {
   "cell_type": "code",
   "execution_count": 8,
   "metadata": {},
   "outputs": [
    {
     "data": {
      "image/png": "[encoded data removed]",
      "text/plain": [
       "<Figure size 720x576 with 3 Axes>"
      ]
     },
     "metadata": {
      "needs_background": "light"
     },
     "output_type": "display_data"
    }
   ],
   "source": [
    "## 배달금액 시각화\n",
    "fig, ax = plt.subplots(ncols=3, figsize=(10,8))\n",
    "plt.subplots_adjust(wspace=1, hspace=0.2)\n",
    "sns.boxplot(y='배달금액',data=df, ax=ax[0])\n",
    "sns.boxplot(y='호출중계수수료금액',data=df, ax=ax[1])\n",
    "sns.boxplot(y='상품금액',data=df, ax=ax[2])\n",
    "plt.show()"
   ]
  },
  {
   "cell_type": "code",
   "execution_count": 9,
   "metadata": {},
   "outputs": [
    {
     "name": "stdout",
     "output_type": "stream",
     "text": [
      "이상치 개수 : 514450\n"
     ]
    }
   ],
   "source": [
    "before = len(df)\n",
    "df = df[df['배달금액'] <= 6500]\n",
    "df = df[df['호출중계수수료금액'] <= 400]\n",
    "df = df[df['상품금액'] <= 58800]\n",
    "df = df[df['상품금액'] != 0] \n",
    "after = len(df)\n",
    "print(\"이상치 개수 :\",before - after)"
   ]
  },
  {
   "cell_type": "code",
   "execution_count": 15,
   "metadata": {},
   "outputs": [
    {
     "data": {
      "image/png": "[encoded data removed]",
      "text/plain": [
       "<Figure size 720x576 with 3 Axes>"
      ]
     },
     "metadata": {
      "needs_background": "light"
     },
     "output_type": "display_data"
    }
   ],
   "source": [
    "## 배달금액 시각화\n",
    "fig, ax = plt.subplots(ncols=3, figsize=(10,8))\n",
    "plt.subplots_adjust(wspace=1, hspace=0.2)\n",
    "sns.boxplot(y='배달금액',data=df, ax=ax[0])\n",
    "sns.boxplot(y='호출중계수수료금액',data=df, ax=ax[1])\n",
    "sns.boxplot(y='상품금액',data=df, ax=ax[2])\n",
    "plt.show()"
   ]
  },
  {
   "cell_type": "code",
   "execution_count": null,
   "metadata": {},
   "outputs": [],
   "source": []
  }
 ],
 "metadata": {
  "kernelspec": {
   "display_name": "psj",
   "language": "python",
   "name": "psj"
  },
  "language_info": {
   "codemirror_mode": {
    "name": "ipython",
    "version": 3
   },
   "file_extension": ".py",
   "mimetype": "text/x-python",
   "name": "python",
   "nbconvert_exporter": "python",
   "pygments_lexer": "ipython3",
   "version": "3.7.10"
  }
 },
 "nbformat": 4,
 "nbformat_minor": 2
}
